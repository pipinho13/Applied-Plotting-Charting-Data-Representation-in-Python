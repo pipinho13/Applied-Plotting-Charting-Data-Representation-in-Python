{
 "cells": [
  {
   "cell_type": "markdown",
   "metadata": {},
   "source": [
    "# Assignment 2\n",
    "\n",
    "Before working on this assignment please read these instructions fully. In the submission area, you will notice that you can click the link to **Preview the Grading** for each step of the assignment. This is the criteria that will be used for peer grading. Please familiarize yourself with the criteria before beginning the assignment.\n",
    "\n",
    "An NOAA dataset has been stored in the file `data/C2A2_data/BinnedCsvs_d50/0071d247cf8b12bab7ea835d2a820a859cb28ee4303fc1992a52f58d.csv`. The data for this assignment comes from a subset of The National Centers for Environmental Information (NCEI) [Daily Global Historical Climatology Network](https://www1.ncdc.noaa.gov/pub/data/ghcn/daily/readme.txt) (GHCN-Daily). The GHCN-Daily is comprised of daily climate records from thousands of land surface stations across the globe.\n",
    "\n",
    "Each row in the assignment datafile corresponds to a single observation.\n",
    "\n",
    "The following variables are provided to you:\n",
    "\n",
    "* **id** : station identification code\n",
    "* **date** : date in YYYY-MM-DD format (e.g. 2012-01-24 = January 24, 2012)\n",
    "* **element** : indicator of element type\n",
    "    * TMAX : Maximum temperature (tenths of degrees C)\n",
    "    * TMIN : Minimum temperature (tenths of degrees C)\n",
    "* **value** : data value for element (tenths of degrees C)\n",
    "\n",
    "For this assignment, you must:\n",
    "\n",
    "1. Read the documentation and familiarize yourself with the dataset, then write some python code which returns a line graph of the record high and record low temperatures by day of the year over the period 2005-2014. The area between the record high and record low temperatures for each day should be shaded.\n",
    "2. Overlay a scatter of the 2015 data for any points (highs and lows) for which the ten year record (2005-2014) record high or record low was broken in 2015.\n",
    "3. Watch out for leap days (i.e. February 29th), it is reasonable to remove these points from the dataset for the purpose of this visualization.\n",
    "4. Make the visual nice! Leverage principles from the first module in this course when developing your solution. Consider issues such as legends, labels, and chart junk.\n",
    "\n",
    "The data you have been given is near **Athens, Attica, Greece**, and the stations the data comes from are shown on the map below."
   ]
  },
  {
   "cell_type": "code",
   "execution_count": 1,
   "metadata": {
    "collapsed": false
   },
   "outputs": [],
   "source": [
    "import matplotlib.pyplot as plt\n",
    "import mplleaflet\n",
    "import pandas as pd\n",
    "\n",
    "def leaflet_plot_stations(binsize, hashid):\n",
    "\n",
    "    df = pd.read_csv('data/C2A2_data/BinSize_d{}.csv'.format(binsize))\n",
    "\n",
    "    station_locations_by_hash = df[df['hash'] == hashid]\n",
    "\n",
    "    lons = station_locations_by_hash['LONGITUDE'].tolist()\n",
    "    lats = station_locations_by_hash['LATITUDE'].tolist()\n",
    "\n",
    "    plt.figure(figsize=(8,8))\n",
    "\n",
    "    plt.scatter(lons, lats, c='r', alpha=0.7, s=200)\n",
    "\n",
    "    return mplleaflet.display()\n",
    "\n",
    "# leaflet_plot_stations(50,'0071d247cf8b12bab7ea835d2a820a859cb28ee4303fc1992a52f58d')"
   ]
  },
  {
   "cell_type": "code",
   "execution_count": 3,
   "metadata": {
    "collapsed": true
   },
   "outputs": [],
   "source": [
    "# command to download the file:\n",
    "file ='data/C2A2_data/BinnedCsvs_d50/0071d247cf8b12bab7ea835d2a820a859cb28ee4303fc1992a52f58d.csv'\n",
    "from IPython.display import HTML\n",
    "link = '<a href=\"{0}\" target = _blank>Click here to download {0}</a>'\n",
    "HTML(link.format(file))"
   ]
  },
  {
   "cell_type": "code",
   "execution_count": 5,
   "metadata": {
    "collapsed": false
   },
   "outputs": [],
   "source": [
    "# Read the csv file\n",
    "df = pd.read_csv('data/C2A2_data/BinnedCsvs_d50/0071d247cf8b12bab7ea835d2a820a859cb28ee4303fc1992a52f58d.csv')\n",
    "df['Data_Value'] = df['Data_Value'].apply(lambda x: x / 10.1)\n",
    "df['Date'] = pd.to_datetime(df['Date'])\n",
    "df['Year'] = pd.DatetimeIndex(df['Date']).year\n",
    "df['Month'] = pd.DatetimeIndex(df['Date']).month\n",
    "df['Day'] =pd.DatetimeIndex(df['Date']).day\n",
    "\n",
    "#Removing the leap days: Feb 29\n",
    "df = df[~((pd.DatetimeIndex(df['Date']).is_leap_year) & (pd.DatetimeIndex(df['Date']).month == 2) & (pd.DatetimeIndex(df['Date']).day == 29))]\n",
    "df2005_2014 = df.loc[(df['Year']>=2005) & (df['Year']<=2014)]\n",
    "df2015 = df.loc[(df['Year']>=2015)]"
   ]
  },
  {
   "cell_type": "code",
   "execution_count": 6,
   "metadata": {
    "collapsed": false
   },
   "outputs": [],
   "source": [
    "df1 = df2005_2014.groupby(['Month', 'Day'])['Data_Value'].agg(['min', 'max'])\n",
    "df2 = df2015.groupby(['Month', 'Day'])['Data_Value'].agg(['min', 'max'])"
   ]
  },
  {
   "cell_type": "code",
   "execution_count": 7,
   "metadata": {
    "collapsed": false
   },
   "outputs": [],
   "source": [
    "dfmerge = pd.merge(df1, df2, how='inner', left_index=True, right_index=True)"
   ]
  },
  {
   "cell_type": "code",
   "execution_count": 8,
   "metadata": {
    "collapsed": false
   },
   "outputs": [
    {
     "data": {
      "text/html": [
       "<div>\n",
       "<table border=\"1\" class=\"dataframe\">\n",
       "  <thead>\n",
       "    <tr style=\"text-align: right;\">\n",
       "      <th></th>\n",
       "      <th></th>\n",
       "      <th>min_x</th>\n",
       "      <th>max_x</th>\n",
       "      <th>min_y</th>\n",
       "      <th>max_y</th>\n",
       "    </tr>\n",
       "    <tr>\n",
       "      <th>Month</th>\n",
       "      <th>Day</th>\n",
       "      <th></th>\n",
       "      <th></th>\n",
       "      <th></th>\n",
       "      <th></th>\n",
       "    </tr>\n",
       "  </thead>\n",
       "  <tbody>\n",
       "    <tr>\n",
       "      <th rowspan=\"5\" valign=\"top\">1</th>\n",
       "      <th>1</th>\n",
       "      <td>-15.247525</td>\n",
       "      <td>24.950495</td>\n",
       "      <td>-22.376238</td>\n",
       "      <td>12.277228</td>\n",
       "    </tr>\n",
       "    <tr>\n",
       "      <th>2</th>\n",
       "      <td>-12.871287</td>\n",
       "      <td>19.009901</td>\n",
       "      <td>-16.534653</td>\n",
       "      <td>11.287129</td>\n",
       "    </tr>\n",
       "    <tr>\n",
       "      <th>3</th>\n",
       "      <td>-14.059406</td>\n",
       "      <td>18.415842</td>\n",
       "      <td>-10.594059</td>\n",
       "      <td>14.158416</td>\n",
       "    </tr>\n",
       "    <tr>\n",
       "      <th>4</th>\n",
       "      <td>-14.257426</td>\n",
       "      <td>18.811881</td>\n",
       "      <td>-4.356436</td>\n",
       "      <td>18.118812</td>\n",
       "    </tr>\n",
       "    <tr>\n",
       "      <th>5</th>\n",
       "      <td>-21.584158</td>\n",
       "      <td>16.534653</td>\n",
       "      <td>-4.851485</td>\n",
       "      <td>7.920792</td>\n",
       "    </tr>\n",
       "  </tbody>\n",
       "</table>\n",
       "</div>"
      ],
      "text/plain": [
       "               min_x      max_x      min_y      max_y\n",
       "Month Day                                            \n",
       "1     1   -15.247525  24.950495 -22.376238  12.277228\n",
       "      2   -12.871287  19.009901 -16.534653  11.287129\n",
       "      3   -14.059406  18.415842 -10.594059  14.158416\n",
       "      4   -14.257426  18.811881  -4.356436  18.118812\n",
       "      5   -21.584158  16.534653  -4.851485   7.920792"
      ]
     },
     "execution_count": 8,
     "metadata": {},
     "output_type": "execute_result"
    }
   ],
   "source": [
    "dfmerge.head()"
   ]
  },
  {
   "cell_type": "code",
   "execution_count": 70,
   "metadata": {
    "collapsed": false
   },
   "outputs": [
    {
     "data": {
      "text/plain": [
       "DatetimeIndex(['2015-01-01', '2015-01-02', '2015-01-03', '2015-01-04',\n",
       "               '2015-01-05', '2015-01-06', '2015-01-07', '2015-01-08',\n",
       "               '2015-01-09', '2015-01-10',\n",
       "               ...\n",
       "               '2015-12-22', '2015-12-23', '2015-12-24', '2015-12-25',\n",
       "               '2015-12-26', '2015-12-27', '2015-12-28', '2015-12-29',\n",
       "               '2015-12-30', '2015-12-31'],\n",
       "              dtype='datetime64[ns]', length=365, freq=None)"
      ]
     },
     "execution_count": 70,
     "metadata": {},
     "output_type": "execute_result"
    }
   ],
   "source": [
    "xaxis = pd.to_datetime((df2015.loc[df2015['Element']=='TMAX', 'Date']).sort_values().unique())\n",
    "#xaxis = xaxis.strftime('%m-%d')\n",
    "# xaxis.strftime('%b')\n",
    "xaxis"
   ]
  },
  {
   "cell_type": "code",
   "execution_count": 9,
   "metadata": {
    "collapsed": true
   },
   "outputs": [],
   "source": [
    "def fxymin(row):\n",
    "    if row['min_y']<row['min_x']:\n",
    "        return row['min_y']\n",
    "    else:\n",
    "        return float('NaN')"
   ]
  },
  {
   "cell_type": "code",
   "execution_count": 10,
   "metadata": {
    "collapsed": true
   },
   "outputs": [],
   "source": [
    "def fxymax(row):\n",
    "    if row['max_y']>row['max_x']:\n",
    "        return row['max_y']\n",
    "    else:\n",
    "        return float('NaN')"
   ]
  },
  {
   "cell_type": "code",
   "execution_count": 11,
   "metadata": {
    "collapsed": false
   },
   "outputs": [],
   "source": [
    "dfmerge['checkmin'] = dfmerge.apply(fxymin, axis=1)\n",
    "dfmerge['checkmax'] = dfmerge.apply(fxymax, axis=1)"
   ]
  },
  {
   "cell_type": "code",
   "execution_count": 12,
   "metadata": {
    "collapsed": false
   },
   "outputs": [
    {
     "data": {
      "text/html": [
       "<div>\n",
       "<table border=\"1\" class=\"dataframe\">\n",
       "  <thead>\n",
       "    <tr style=\"text-align: right;\">\n",
       "      <th></th>\n",
       "      <th></th>\n",
       "      <th>min_x</th>\n",
       "      <th>max_x</th>\n",
       "      <th>min_y</th>\n",
       "      <th>max_y</th>\n",
       "      <th>checkmin</th>\n",
       "      <th>checkmax</th>\n",
       "    </tr>\n",
       "    <tr>\n",
       "      <th>Month</th>\n",
       "      <th>Day</th>\n",
       "      <th></th>\n",
       "      <th></th>\n",
       "      <th></th>\n",
       "      <th></th>\n",
       "      <th></th>\n",
       "      <th></th>\n",
       "    </tr>\n",
       "  </thead>\n",
       "  <tbody>\n",
       "    <tr>\n",
       "      <th rowspan=\"5\" valign=\"top\">1</th>\n",
       "      <th>1</th>\n",
       "      <td>-15.247525</td>\n",
       "      <td>24.950495</td>\n",
       "      <td>-22.376238</td>\n",
       "      <td>12.277228</td>\n",
       "      <td>-22.376238</td>\n",
       "      <td>NaN</td>\n",
       "    </tr>\n",
       "    <tr>\n",
       "      <th>2</th>\n",
       "      <td>-12.871287</td>\n",
       "      <td>19.009901</td>\n",
       "      <td>-16.534653</td>\n",
       "      <td>11.287129</td>\n",
       "      <td>-16.534653</td>\n",
       "      <td>NaN</td>\n",
       "    </tr>\n",
       "    <tr>\n",
       "      <th>3</th>\n",
       "      <td>-14.059406</td>\n",
       "      <td>18.415842</td>\n",
       "      <td>-10.594059</td>\n",
       "      <td>14.158416</td>\n",
       "      <td>NaN</td>\n",
       "      <td>NaN</td>\n",
       "    </tr>\n",
       "    <tr>\n",
       "      <th>4</th>\n",
       "      <td>-14.257426</td>\n",
       "      <td>18.811881</td>\n",
       "      <td>-4.356436</td>\n",
       "      <td>18.118812</td>\n",
       "      <td>NaN</td>\n",
       "      <td>NaN</td>\n",
       "    </tr>\n",
       "    <tr>\n",
       "      <th>5</th>\n",
       "      <td>-21.584158</td>\n",
       "      <td>16.534653</td>\n",
       "      <td>-4.851485</td>\n",
       "      <td>7.920792</td>\n",
       "      <td>NaN</td>\n",
       "      <td>NaN</td>\n",
       "    </tr>\n",
       "  </tbody>\n",
       "</table>\n",
       "</div>"
      ],
      "text/plain": [
       "               min_x      max_x      min_y      max_y   checkmin  checkmax\n",
       "Month Day                                                                 \n",
       "1     1   -15.247525  24.950495 -22.376238  12.277228 -22.376238       NaN\n",
       "      2   -12.871287  19.009901 -16.534653  11.287129 -16.534653       NaN\n",
       "      3   -14.059406  18.415842 -10.594059  14.158416        NaN       NaN\n",
       "      4   -14.257426  18.811881  -4.356436  18.118812        NaN       NaN\n",
       "      5   -21.584158  16.534653  -4.851485   7.920792        NaN       NaN"
      ]
     },
     "execution_count": 12,
     "metadata": {},
     "output_type": "execute_result"
    }
   ],
   "source": [
    "dfmerge.head()"
   ]
  },
  {
   "cell_type": "code",
   "execution_count": 13,
   "metadata": {
    "collapsed": true
   },
   "outputs": [],
   "source": [
    "%matplotlib inline"
   ]
  },
  {
   "cell_type": "code",
   "execution_count": 14,
   "metadata": {
    "collapsed": true
   },
   "outputs": [],
   "source": [
    "import numpy as np"
   ]
  },
  {
   "cell_type": "code",
   "execution_count": 93,
   "metadata": {
    "collapsed": false
   },
   "outputs": [
    {
     "data": {
      "image/png": "[encoded data removed]",
      "text/plain": [
       "<matplotlib.figure.Figure at 0x7fe865369cc0>"
      ]
     },
     "metadata": {},
     "output_type": "display_data"
    }
   ],
   "source": [
    "plt.figure()\n",
    "plt.title(\"Greece: Extreme daily temperature records 2015 vs 2005-2014\", fontsize=14)\n",
    "#plt.suptitle(\"Extreme daily temperature records 2015 vs 2005-2014\", fontsize=16)\n",
    "\n",
    "\n",
    "plt.plot(xaxis, dfmerge['min_x'].as_matrix(),  '--r' , color='blue')\n",
    "plt.plot(xaxis, dfmerge['max_x'].as_matrix(),  '--r' , color='red')\n",
    "plt.plot(xaxis, dfmerge['checkmax'].as_matrix(),  'x' , color='black')\n",
    "plt.plot(xaxis, dfmerge['checkmin'].as_matrix(),  'o' , color='yellow')\n",
    "\n",
    "plt.gca().fill_between(xaxis, \n",
    "                       dfmerge['min_x'].as_matrix(), dfmerge['max_x'].as_matrix(), \n",
    "                       facecolor='grey', \n",
    "                       alpha=0.25)\n",
    "\n",
    "import matplotlib.dates as mdates\n",
    "plt.gca().xaxis.set_major_formatter(mdates.DateFormatter('%b'))\n",
    "plt.gca().xaxis.set_major_locator(mdates.MonthLocator())\n",
    "\n",
    "plt.xlabel('Day')\n",
    "plt.ylabel('Temperature in Degree Celsius')\n",
    "\n",
    "#Removing the frame\n",
    "plt.gca().spines['top'].set_visible(False)\n",
    "plt.gca().spines['right'].set_visible(False)\n",
    "plt.legend(['2005-2014 Lowest', '2005-2014 Highest', '2015 Highest', '2015 Lowest'])\n",
    "plt.savefig('foo.png', bbox_inches='tight')"
   ]
  },
  {
   "cell_type": "code",
   "execution_count": null,
   "metadata": {
    "collapsed": true
   },
   "outputs": [],
   "source": []
  }
 ],
 "metadata": {
  "kernelspec": {
   "display_name": "Python 3",
   "language": "python",
   "name": "python3"
  },
  "language_info": {
   "codemirror_mode": {
    "name": "ipython",
    "version": 3
   },
   "file_extension": ".py",
   "mimetype": "text/x-python",
   "name": "python",
   "nbconvert_exporter": "python",
   "pygments_lexer": "ipython3",
   "version": "3.5.2"
  }
 },
 "nbformat": 4,
 "nbformat_minor": 1
}
